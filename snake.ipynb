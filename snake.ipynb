{
 "cells": [
  {
   "cell_type": "code",
   "execution_count": 1,
   "metadata": {},
   "outputs": [],
   "source": [
    "import curses\n",
    "from curses import KEY_RIGHT, KEY_LEFT, KEY_UP, KEY_DOWN\n",
    "from random import randint\n",
    "import tensorflow as tf\n",
    "from tensorflow import layers\n",
    "import numpy as np\n",
    "import os\n",
    "from tflearn.layers.core import input_data, fully_connected\n",
    "from tflearn.layers.estimator import regression\n",
    "import tflearn\n",
    "\n",
    "os.environ['TF_CPP_MIN_LOG_LEVEL'] = '2'\n"
   ]
  },
  {
   "cell_type": "code",
   "execution_count": 2,
   "metadata": {},
   "outputs": [],
   "source": [
    "def training_model():\n",
    "    network = input_data(shape=[None, 3, 1], name='input')\n",
    "    network = fully_connected(network, 1, activation='linear')\n",
    "    network = regression(network, optimizer='adam', learning_rate=1e-2, loss='mean_square', name='target')\n",
    "    model = tflearn.DNN(network, tensorboard_dir='log')\n",
    "    return model\n",
    "\n"
   ]
  },
  {
   "cell_type": "code",
   "execution_count": 3,
   "metadata": {},
   "outputs": [],
   "source": [
    "training_data = []"
   ]
  },
  {
   "cell_type": "code",
   "execution_count": 4,
   "metadata": {},
   "outputs": [],
   "source": [
    "# left 0 right 1 up 2 down 3\n",
    "# direction, have obstacle, will die?, decision\n",
    "training_data.append([np.array([0, 1, 1, 0]), np.array(0)])\n",
    "training_data.append([np.array([0, 1, 0, 2]), np.array(2)])\n",
    "training_data.append([np.array([2, 1, 0, 0]), np.array(0)])\n",
    "training_data.append([np.array([3, 0, 0, 3]), np.array(3)])"
   ]
  },
  {
   "cell_type": "code",
   "execution_count": 5,
   "metadata": {},
   "outputs": [
    {
     "data": {
      "text/plain": [
       "[array(0), array(2), array(0), array(3)]"
      ]
     },
     "execution_count": 5,
     "metadata": {},
     "output_type": "execute_result"
    }
   ],
   "source": [
    "list((i[1] for i in training_data))"
   ]
  },
  {
   "cell_type": "code",
   "execution_count": 6,
   "metadata": {},
   "outputs": [
    {
     "name": "stdout",
     "output_type": "stream",
     "text": [
      "---------------------------------\n",
      "Run id: OPHKRG\n",
      "Log directory: log/\n",
      "---------------------------------\n",
      "Training samples: 4\n",
      "Validation samples: 0\n",
      "--\n",
      "Training Step: 1  | time: 0.093s\n",
      "| Adam | epoch: 001 | loss: 0.00000 -- iter: 4/4\n",
      "--\n",
      "Training Step: 2  | total loss: \u001b[1m\u001b[32m2.78219\u001b[0m\u001b[0m | time: 0.002s\n",
      "| Adam | epoch: 002 | loss: 2.78219 -- iter: 4/4\n",
      "--\n",
      "Training Step: 3  | total loss: \u001b[1m\u001b[32m2.92246\u001b[0m\u001b[0m | time: 0.003s\n",
      "| Adam | epoch: 003 | loss: 2.92246 -- iter: 4/4\n",
      "--\n",
      "Training Step: 4  | total loss: \u001b[1m\u001b[32m2.84565\u001b[0m\u001b[0m | time: 0.003s\n",
      "| Adam | epoch: 004 | loss: 2.84565 -- iter: 4/4\n",
      "--\n",
      "Training Step: 5  | total loss: \u001b[1m\u001b[32m2.73829\u001b[0m\u001b[0m | time: 0.003s\n",
      "| Adam | epoch: 005 | loss: 2.73829 -- iter: 4/4\n",
      "--\n",
      "Training Step: 6  | total loss: \u001b[1m\u001b[32m2.62703\u001b[0m\u001b[0m | time: 0.003s\n",
      "| Adam | epoch: 006 | loss: 2.62703 -- iter: 4/4\n",
      "--\n",
      "Training Step: 7  | total loss: \u001b[1m\u001b[32m2.51722\u001b[0m\u001b[0m | time: 0.005s\n",
      "| Adam | epoch: 007 | loss: 2.51722 -- iter: 4/4\n",
      "--\n",
      "Training Step: 8  | total loss: \u001b[1m\u001b[32m2.41017\u001b[0m\u001b[0m | time: 0.003s\n",
      "| Adam | epoch: 008 | loss: 2.41017 -- iter: 4/4\n",
      "--\n",
      "Training Step: 9  | total loss: \u001b[1m\u001b[32m2.30629\u001b[0m\u001b[0m | time: 0.002s\n",
      "| Adam | epoch: 009 | loss: 2.30629 -- iter: 4/4\n",
      "--\n",
      "Training Step: 10  | total loss: \u001b[1m\u001b[32m2.20570\u001b[0m\u001b[0m | time: 0.003s\n",
      "| Adam | epoch: 010 | loss: 2.20570 -- iter: 4/4\n",
      "--\n"
     ]
    }
   ],
   "source": [
    "x = np.array([i[0] for i in training_data]).reshape(-1, 4, 1)\n",
    "y = np.array([i[1] for i in training_data]).reshape(-1, 1)\n",
    "model = training_model()\n",
    "model.fit(x, y, n_epoch=10, shuffle=True)"
   ]
  },
  {
   "cell_type": "code",
   "execution_count": 50,
   "metadata": {},
   "outputs": [
    {
     "data": {
      "text/plain": [
       "2"
      ]
     },
     "execution_count": 50,
     "metadata": {},
     "output_type": "execute_result"
    }
   ],
   "source": [
    "# left 0 right 1 up 2 down 3\n",
    "# direction, have obstacle, will die?, decision\n",
    "best_fit = {}\n",
    "for action in range(0,3):\n",
    "    best_fit.update({action: model.predict(np.array([0, 1, 1, action]).reshape(-1, 4, 1))})\n",
    "best_fit\n",
    "import operator\n",
    "max(best_fit.iteritems(), key=operator.itemgetter(1))[0]"
   ]
  },
  {
   "cell_type": "code",
   "execution_count": 24,
   "metadata": {},
   "outputs": [
    {
     "name": "stdout",
     "output_type": "stream",
     "text": [
      "INFO:tensorflow:Restoring parameters from /home/alex/Development/snake-game/snake_bot.h5\n",
      "[1.0]\n",
      "{0: array([[1.0000453]], dtype=float32), 1: array([[1.0039898]], dtype=float32), 2: array([[1.0079341]], dtype=float32), 3: array([[1.0118785]], dtype=float32), 4: array([[1.015823]], dtype=float32)}\n",
      "0\n",
      "260\n"
     ]
    }
   ],
   "source": [
    "tf.reset_default_graph()\n",
    "network = input_data(shape=[None, 3, 1], name='input')\n",
    "network = fully_connected(network, 25, activation='relu')\n",
    "network = fully_connected(network, 25, activation='relu')\n",
    "network = fully_connected(network, 1, activation='linear')\n",
    "network = regression(network, optimizer='adam', learning_rate=1e-2, loss='mean_square', name='target')\n",
    "model_load = tflearn.DNN(network, tensorboard_dir='log')\n",
    "model_load.load('snake_bot.h5')\n",
    "# left 0 right 1 up 2 down 3\n",
    "# direction, have obstacle, decision\n",
    "import operator\n",
    "KEYS = [KEY_LEFT, KEY_RIGHT, KEY_UP, KEY_DOWN]\n",
    "results = []\n",
    "best_fit = {}\n",
    "r = model_load.evaluate(np.array([int(258), int(258), 1]).reshape(-1, 3, 1), np.array([1]).reshape(-1, 1))\n",
    "print(r)\n",
    "for action in range(0,5):\n",
    "    best_fit.update({action: model_load.predict(np.array([int(0), int(action), 1]).reshape(-1, 3, 1))})\n",
    "key_index = min(best_fit.iteritems(), key=operator.itemgetter(1))[0]\n",
    "print(best_fit)\n",
    "print(key_index)\n",
    "print(KEYS[key_index])"
   ]
  },
  {
   "cell_type": "code",
   "execution_count": 4,
   "metadata": {},
   "outputs": [],
   "source": [
    "import curses\n",
    "from curses import KEY_RIGHT, KEY_LEFT, KEY_UP, KEY_DOWN\n",
    "from random import randint\n",
    "import tensorflow as tf\n",
    "from tensorflow import layers\n",
    "import numpy as np\n",
    "import os\n",
    "from keras.models import load_model\n",
    "\n",
    "from keras.models import Sequential\n",
    "from keras.layers import Dense\n",
    "from keras.layers import Flatten\n",
    "from tflearn.layers.core import input_data, fully_connected\n",
    "from tflearn.layers.estimator import regression\n",
    "import tflearn\n",
    "model = load_model('snake_bot.h5')"
   ]
  },
  {
   "cell_type": "code",
   "execution_count": 37,
   "metadata": {},
   "outputs": [
    {
     "data": {
      "text/plain": [
       "[array([[1.0151893]], dtype=float32),\n",
       " array([[1.1374441]], dtype=float32),\n",
       " array([[1.2096672]], dtype=float32),\n",
       " array([[1.3328403]], dtype=float32)]"
      ]
     },
     "execution_count": 37,
     "metadata": {},
     "output_type": "execute_result"
    }
   ],
   "source": [
    "results = []\n",
    "for k in range(0,4):\n",
    "    results.append(model.predict(np.array([3,k,1]).reshape(-1,3))) #.reshape(-1, 3, 1)))\n",
    "    #results.append(model.predict_classes(np.array([0,k,1]).reshape(-1,3))) #.reshape(-1, 3, 1)))\n",
    "results"
   ]
  },
  {
   "cell_type": "code",
   "execution_count": 19,
   "metadata": {},
   "outputs": [
    {
     "data": {
      "text/plain": [
       "array([[1]], dtype=int32)"
      ]
     },
     "execution_count": 19,
     "metadata": {},
     "output_type": "execute_result"
    }
   ],
   "source": [
    "model.predict_classes(np.array([3,3,1]).reshape(-1,3))"
   ]
  },
  {
   "cell_type": "code",
   "execution_count": 49,
   "metadata": {},
   "outputs": [
    {
     "name": "stdout",
     "output_type": "stream",
     "text": [
      "{0: array([[1.1552042]], dtype=float32), 1: array([[1.2601165]], dtype=float32), 2: array([[1.2521561]], dtype=float32), 3: array([[1.2549958]], dtype=float32)}\n",
      "1\n"
     ]
    }
   ],
   "source": [
    "import operator\n",
    "best_fit = {}\n",
    "for action in range(0,4):\n",
    "    best_fit.update({action: model.predict(np.array([0, action, 1]).reshape(-1, 3))})\n",
    "key_index = max(best_fit.iteritems(), key=operator.itemgetter(1))[0]\n",
    "print best_fit\n",
    "print(key_index)"
   ]
  },
  {
   "cell_type": "code",
   "execution_count": null,
   "metadata": {},
   "outputs": [],
   "source": []
  }
 ],
 "metadata": {
  "kernelspec": {
   "display_name": "Python 3",
   "language": "python",
   "name": "python3"
  },
  "language_info": {
   "codemirror_mode": {
    "name": "ipython",
    "version": 2
   },
   "file_extension": ".py",
   "mimetype": "text/x-python",
   "name": "python",
   "nbconvert_exporter": "python",
   "pygments_lexer": "ipython2",
   "version": "2.7.12"
  }
 },
 "nbformat": 4,
 "nbformat_minor": 2
}
